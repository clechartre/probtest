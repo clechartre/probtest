{
 "cells": [
  {
   "cell_type": "markdown",
   "metadata": {},
   "source": [
    "# log mining script ICON "
   ]
  },
  {
   "cell_type": "code",
   "execution_count": 155,
   "metadata": {},
   "outputs": [],
   "source": [
    "import re\n",
    "import sys\n",
    "import logging\n",
    "from datetime import datetime\n",
    "from dataclasses import dataclass, fields\n",
    "from typing import Optional, Iterable\n",
    "\n",
    "import numpy as np\n"
   ]
  },
  {
   "cell_type": "markdown",
   "metadata": {},
   "source": [
    "# My functions \n",
    "\n",
    "- Find the tables and save them in log_fileclass instances? \n",
    "- So this entails finding the pattern of the table, and cropping my document around it \n",
    "- If it is the small table, skip (use the code already there)\n",
    "- Save values of the table into a csv or a json \n",
    "- if multiple tables, sum or take max? of value 8e.g., one value for integrate_nh #calls \n",
    "- Find the timestamp of the document \n",
    "- Add that to the json \n",
    "- find commit nb? \n",
    "- branch \n"
   ]
  },
  {
   "cell_type": "code",
   "execution_count": 177,
   "metadata": {},
   "outputs": [],
   "source": [
    "# Read file \n",
    "def read_logfile(filename):\n",
    "    with open(filename, \"r\", encoding=\"latin-1\") as f:\n",
    "        # read file into list of lines, remove empty lines\n",
    "        full_file = f.read()\n",
    "        log_file = [e for e in full_file.split(\"\\n\") if e != \"\"]\n",
    "    return log_file\n",
    "\n",
    "log_file = read_logfile(\"LOG.check.mch_bench_r19b07_icon2.run.o\")"
   ]
  },
  {
   "cell_type": "code",
   "execution_count": 13,
   "metadata": {},
   "outputs": [
    {
     "ename": "NameError",
     "evalue": "name 'dataclass' is not defined",
     "output_type": "error",
     "traceback": [
      "\u001b[0;31m---------------------------------------------------------------------------\u001b[0m",
      "\u001b[0;31mNameError\u001b[0m                                 Traceback (most recent call last)",
      "Cell \u001b[0;32mIn[13], line 2\u001b[0m\n\u001b[1;32m      1\u001b[0m \u001b[39m# Create a dataclass to save each line of the table of interest \u001b[39;00m\n\u001b[0;32m----> 2\u001b[0m \u001b[39m@dataclass\u001b[39m\n\u001b[1;32m      3\u001b[0m \u001b[39mclass\u001b[39;00m \u001b[39mMatchResultsICON\u001b[39;00m: \n\u001b[1;32m      4\u001b[0m     name: \u001b[39mlist\u001b[39m \u001b[39m=\u001b[39m field(default_factory\u001b[39m=\u001b[39m\u001b[39mlist\u001b[39m)\n\u001b[1;32m      5\u001b[0m     call_nb: \u001b[39mlist\u001b[39m \u001b[39m=\u001b[39m field(default_factory\u001b[39m=\u001b[39m\u001b[39mlist\u001b[39m)\n",
      "\u001b[0;31mNameError\u001b[0m: name 'dataclass' is not defined"
     ]
    }
   ],
   "source": [
    "# Create a dataclass to save each line of the table of interest \n",
    "@dataclass\n",
    "class MatchResultsICON: \n",
    "    name: list = field(default_factory=list)\n",
    "    call_nb: list = field(default_factory=list)\n",
    "    t_min: list = field(default_factory=list)\n",
    "    min_rank:list = field(default_factory=list)\n",
    "    t_avg: list = field(default_factory=list)\n",
    "    t_max: list = field(default_factory=list)\n",
    "    max_rank: list = field(default_factory=list)\n",
    "    total_min: list = field(default_factory=list)\n",
    "    total_min_rank:list = field(default_factory=list)\n",
    "    total_max: list = field(default_factory=list)\n",
    "    total_max_rank: list = field(default_factory=list)\n",
    "    total_avg: list = field(default_factory=list)\n",
    "    pe: list = field(default_factory=list)\n",
    "\n",
    "    # To make it subscriptable\n",
    "    def __getitem__(self, key):\n",
    "        return getattr(self, key)\n",
    "\n",
    "    \n",
    "    # def dict(self):\n",
    "    #     return {k: str(v) for k, v in asdict(self).items()}"
   ]
  },
  {
   "cell_type": "code",
   "execution_count": 127,
   "metadata": {},
   "outputs": [],
   "source": [
    "import re\n",
    "\n",
    "timing_start_regex = r\"(?: +L? ?[a-zA-Z_.]+)\"\n",
    "timing_element_regex = r\"(?:\\[?\\d+[.msh]?\\d*s?\\]? +)\"\n",
    "timing_regex = timing_start_regex + \" +\" + timing_element_regex + \"{6,20} *(?!.)\"\n",
    "header_regex = r\"name +.*calls.*\"\n"
   ]
  },
  {
   "cell_type": "code",
   "execution_count": 128,
   "metadata": {},
   "outputs": [],
   "source": [
    "\n",
    "class Table:\n",
    "    def __init__(self, lines):\n",
    "        # Remove white spaces at the beginning and end of each line\n",
    "        self.lines = [line.strip() for line in lines]\n",
    "\n",
    "    def __str__(self):\n",
    "        return \"\\n\".join(self.lines)\n",
    "\n",
    "        \n"
   ]
  },
  {
   "cell_type": "code",
   "execution_count": 178,
   "metadata": {},
   "outputs": [
    {
     "name": "stdout",
     "output_type": "stream",
     "text": [
      "total                             4               53m11s   [2]              53m11s         53m11s   [0]            3191.350    [2]                  3191.350    [0]                  3191.350    4\n",
      "L integrate_nh                   86400         0.12085s   [2]            0.13805s        1.4055s   [3]            2980.473    [0]                  2984.872    [3]                  2981.987    4\n",
      "L nh_solve                    432000        0.00909s   [0]            0.00977s       0.13249s   [3]            1034.114    [0]                  1064.997    [3]                  1055.603    4\n",
      "L nh_solve.veltend         518400        0.00127s   [2]            0.00130s       0.03737s   [2]             168.866    [1]                   169.421    [3]                   169.106    4\n",
      "L nh_solve.cellcomp        864000        0.00032s   [1]            0.00051s       0.00243s   [1]             110.164    [1]                   110.621    [0]                   110.367    4\n",
      "L nh_solve.edgecomp        864000        0.00052s   [2]            0.00078s       0.03303s   [0]             169.311    [1]                   169.388    [0]                   169.351    4\n",
      "L nh_solve.vnupd           864000        0.00056s   [0]            0.00086s       0.01324s   [0]             184.683    [1]                   186.290    [3]                   185.811    4\n",
      "L nh_solve.vimpl           864000        0.00134s   [2]            0.00139s       0.00204s   [1]             299.026    [2]                   299.688    [3]                   299.351    4\n",
      "L nh_solve.exch            1728000       0.00010s   [3]            0.00021s       0.11979s   [3]              73.128    [0]                   103.964    [1]                    92.571    4\n",
      "L nh_hdiff                    86404         0.00244s   [1]            0.00252s       0.04904s   [0]              53.686    [1]                    54.763    [3]                    54.380    4\n",
      "L transport                   86400         0.01775s   [3]            0.01833s       0.20685s   [0]             395.181    [3]                   396.478    [1]                   395.865    4\n",
      "L adv_horiz                86400         0.01133s   [0]            0.01169s       0.19539s   [2]             251.997    [0]                   253.024    [3]                   252.480    4\n",
      "L adv_hflx              86400         0.01032s   [0]            0.01067s       0.14553s   [1]             229.996    [0]                   231.041    [3]                   230.524    4\n",
      "L back_traj          259200        0.00002s   [0]            0.00035s       0.00433s   [0]              22.333    [1]                    22.448    [0]                    22.415    4\n",
      "L adv_vert                 86400         0.00594s   [3]            0.00617s       0.00905s   [0]             132.773    [3]                   134.045    [0]                   133.298    4\n",
      "L adv_vflx              86400         0.00538s   [3]            0.00559s       0.00783s   [2]             120.262    [3]                   121.472    [0]                   120.780    4\n",
      "exch_data                         3061948       0.00002s   [0]            0.00029s       0.21393s   [1]             136.670    [0]                   280.294    [1]                   219.541    4\n",
      "L exch_data.wait                 3061948       0.00000s   [0]            0.00018s       0.21298s   [1]              51.446    [0]                   197.923    [1]                   138.893    4\n",
      "global_sum                        86436         0.00000s   [0]            0.00001s       0.06155s   [1]               0.107    [3]                     0.279    [0]                     0.201    4\n",
      "ordglb_sum                        86488         0.00000s   [0]            0.00002s       0.03370s   [0]               0.313    [3]                     0.450    [0]                     0.405    4\n",
      "wrt_output                        484           0.14748s   [0]            0.15380s       0.16024s   [2]              18.589    [0]                    18.620    [2]                    18.609    4\n",
      "L wait_for_async_io              484           0.00001s   [0]            0.00018s       0.00149s   [3]               0.001    [0]                     0.033    [2]                     0.022    4\n",
      "physics                           86404         0.04503s   [2]            0.06197s       0.84713s   [3]            1337.461    [2]                  1339.229    [0]                  1338.656    4\n",
      "L nwp_radiation                  2884          0.14135s   [0]            0.21789s       0.43400s   [2]             146.666    [0]                   162.627    [1]                   157.100    4\n",
      "L preradiaton                 2884          0.00447s   [3]            0.00506s       0.06441s   [2]               3.582    [3]                     3.715    [0]                     3.646    4\n",
      "L phys_acc_sync                  86404         0.00115s   [3]            0.00475s       0.09187s   [0]              48.303    [0]                   137.783    [1]                   102.627    4\n",
      "L satad                          86404         0.00075s   [2]            0.00241s       0.02079s   [2]              52.049    [2]                    52.231    [0]                    52.154    4\n",
      "L phys_u_v                       86404         0.00031s   [0]            0.00032s       0.00087s   [0]               6.856    [0]                     6.958    [3]                     6.903    4\n",
      "L nwp_turbulence                 172804        0.00744s   [2]            0.01083s       0.10231s   [3]             459.125    [2]                   489.104    [0]                   467.912    4\n",
      "L nwp_turbtrans               86404         0.00743s   [2]            0.00810s       0.03293s   [3]             168.817    [2]                   189.108    [0]                   175.014    4\n",
      "L nwp_turbdiff                86400         0.00771s   [1]            0.00781s       0.05215s   [2]             168.215    [1]                   169.155    [2]                   168.693    4\n",
      "L nwp_surface                    86400         0.01107s   [2]            0.01335s       0.20375s   [0]             258.510    [2]                   333.273    [0]                   288.259    4\n",
      "L nwp_microphysics               86400         0.00232s   [1]            0.00349s       0.00760s   [1]              71.708    [0]                    80.838    [3]                    75.337    4\n",
      "L rediag_prog_vars               86404         0.00022s   [3]            0.00061s       0.00104s   [0]              13.226    [3]                    13.276    [0]                    13.249    4\n",
      "L nwp_convection                 14404         0.02515s   [1]            0.03213s       0.06021s   [2]             107.942    [1]                   123.688    [2]                   115.715    4\n",
      "L sso                            14404         0.00234s   [2]            0.00268s       0.00832s   [0]               8.679    [2]                    10.360    [3]                     9.645    4\n",
      "L cloud_cover                    14404         0.00486s   [1]            0.00505s       0.01725s   [2]              18.100    [2]                    18.354    [3]                    18.201    4\n",
      "L radheat                        86404         0.00081s   [2]            0.00084s       0.00215s   [1]              18.005    [2]                    18.243    [0]                    18.084    4\n",
      "nh_diagnostics                    261144        0.00000s   [0]            0.00024s       0.33809s   [2]              15.101    [2]                    15.778    [0]                    15.406    4\n",
      "diagnose_pres_temp                34092         0.00000s   [1]            0.00030s       0.12514s   [0]               2.558    [3]                     2.635    [1]                     2.586    4\n",
      "model_init                        12             5.8379s   [0]            15.3663s       29.2936s   [0]              46.099    [0]                    46.099    [2]                    46.099    4\n",
      "L compute_domain_decomp          4              4.1788s   [0]             4.1789s        4.1790s   [2]               4.179    [0]                     4.179    [2]                     4.179    4\n",
      "L compute_intp_coeffs            4              6.1142s   [1]             6.1234s        6.1376s   [2]               6.114    [1]                     6.138    [2]                     6.123    4\n",
      "L init_ext_data                  4             0.40888s   [2]            0.42338s       0.43231s   [3]               0.409    [2]                     0.432    [3]                     0.423    4\n",
      "L init_icon                      4             13.2371s   [1]            13.2374s       13.2380s   [0]              13.237    [1]                    13.238    [0]                    13.237    4\n",
      "L init_latbc                     4             11.6030s   [0]            11.6035s       11.6038s   [2]              11.603    [0]                    11.604    [2]                    11.604    4\n",
      "L init_nwp_phy                   4              1.3087s   [2]             1.3454s        1.3749s   [3]               1.309    [2]                     1.375    [3]                     1.345    4\n",
      "upper_atmosphere                  16            0.00001s   [2]            0.00089s       0.00320s   [1]               0.003    [2]                     0.004    [1]                     0.004    4\n",
      "L upatmo_construction            8             0.00001s   [1]            0.00156s       0.00319s   [1]               0.003    [2]                     0.003    [1]                     0.003    4\n",
      "L upatmo_destruction             8             0.00000s   [0]            0.00020s       0.00046s   [1]               0.000    [2]                     0.001    [1]                     0.000    4\n",
      "write_restart                     8             0.00001s   [0]            0.00008s       0.00045s   [1]               0.000    [0]                     0.000    [1]                     0.000    4\n",
      "L write_restart_io               4             0.00000s   [0]            0.00000s       0.00000s   [3]               0.000    [0]                     0.000    [3]                     0.000    4\n",
      "L write_restart_communication    4             0.00000s   [0]            0.00000s       0.00000s   [3]               0.000    [0]                     0.000    [3]                     0.000    4\n",
      "optional_diagnostics_atmosphere   5324          0.00001s   [1]            0.00018s       0.00749s   [3]               0.214    [0]                     0.271    [3]                     0.237    4\n"
     ]
    }
   ],
   "source": [
    "\n",
    "def isolate_table(log_file, header_regex, timing_regex):\n",
    "    # Find header lines\n",
    "    header_lines = [i for i, e in enumerate(log_file) if re.search(header_regex, e)]\n",
    "    \n",
    "    # find end line (footer)\n",
    "    pattern = r'-'*165\n",
    "    footer_lines = [i for i, e in enumerate(log_file) if re.search(pattern, e)]\n",
    "\n",
    "    if not header_lines or not footer_lines:\n",
    "        raise ValueError(\"No headers or footers found in the log\")\n",
    "\n",
    "    tables = []\n",
    "    for i in range(len(header_lines)):\n",
    "        start = header_lines[i]\n",
    "        # Check if we have a corresponding footer for this header\n",
    "        end = next((f for f in footer_lines if f > start), None)\n",
    "        if end is None:\n",
    "            break\n",
    "\n",
    "        # Append table without headers\n",
    "        table = Table(log_file[start+3:end])\n",
    "\n",
    "        tables.append(table)\n",
    "\n",
    "        # Remove this footer so it won't be used again\n",
    "        footer_lines.remove(end)\n",
    "\n",
    "    return tables\n",
    "\n",
    "\n",
    "result = isolate_table(log_file, header_regex, timing_regex)\n",
    "for table in result:\n",
    "    print(table)\n"
   ]
  },
  {
   "cell_type": "code",
   "execution_count": 179,
   "metadata": {},
   "outputs": [],
   "source": [
    "\n",
    "def remove_formatting(result):\n",
    "    def process_line(line):\n",
    "        line = re.sub('[\\s]+', '-', line)\n",
    "        if line.startswith(\"L\"):\n",
    "            line = line.lstrip(\"L-\")\n",
    "        return line.split('-')\n",
    "    \n",
    "    for table in result:\n",
    "        table.lines = [process_line(line) for line in table.lines]\n",
    "        \n",
    "\n",
    "    return table\n"
   ]
  },
  {
   "cell_type": "code",
   "execution_count": 180,
   "metadata": {},
   "outputs": [],
   "source": [
    "table = remove_formatting(result)"
   ]
  },
  {
   "cell_type": "code",
   "execution_count": 181,
   "metadata": {},
   "outputs": [
    {
     "name": "stdout",
     "output_type": "stream",
     "text": [
      "MatchResultsICON(name=['integrate_nh', 'nh_solve', 'nh_solve.veltend', 'nh_solve.cellcomp', 'nh_solve.edgecomp', 'nh_solve.vnupd', 'nh_solve.vimpl', 'nh_solve.exch', 'nh_hdiff', 'transport', 'adv_horiz', 'adv_hflx', 'back_traj', 'adv_vert', 'adv_vflx', 'exch_data', 'exch_data.wait', 'global_sum', 'ordglb_sum', 'wrt_output', 'wait_for_async_io', 'physics', 'nwp_radiation', 'preradiaton', 'phys_acc_sync', 'satad', 'phys_u_v', 'nwp_turbulence', 'nwp_turbtrans', 'nwp_turbdiff', 'nwp_surface', 'nwp_microphysics', 'rediag_prog_vars', 'nwp_convection', 'sso', 'cloud_cover', 'radheat', 'nh_diagnostics', 'diagnose_pres_temp', 'model_init', 'compute_domain_decomp', 'compute_intp_coeffs', 'init_ext_data', 'init_icon', 'init_latbc', 'init_nwp_phy', 'upper_atmosphere', 'upatmo_construction', 'upatmo_destruction', 'write_restart', 'write_restart_io', 'write_restart_communication', 'optional_diagnostics_atmosphere'], call_nb=['86400', '432000', '518400', '864000', '864000', '864000', '864000', '1728000', '86404', '86400', '86400', '86400', '259200', '86400', '86400', '3061948', '3061948', '86436', '86488', '484', '484', '86404', '2884', '2884', '86404', '86404', '86404', '172804', '86404', '86400', '86400', '86400', '86404', '14404', '14404', '14404', '86404', '261144', '34092', '12', '4', '4', '4', '4', '4', '4', '16', '8', '8', '8', '4', '4', '5324'], t_min=['0.12085s', '0.00909s', '0.00127s', '0.00032s', '0.00052s', '0.00056s', '0.00134s', '0.00010s', '0.00244s', '0.01775s', '0.01133s', '0.01032s', '0.00002s', '0.00594s', '0.00538s', '0.00002s', '0.00000s', '0.00000s', '0.00000s', '0.14748s', '0.00001s', '0.04503s', '0.14135s', '0.00447s', '0.00115s', '0.00075s', '0.00031s', '0.00744s', '0.00743s', '0.00771s', '0.01107s', '0.00232s', '0.00022s', '0.02515s', '0.00234s', '0.00486s', '0.00081s', '0.00000s', '0.00000s', '5.8379s', '4.1788s', '6.1142s', '0.40888s', '13.2371s', '11.6030s', '1.3087s', '0.00001s', '0.00001s', '0.00000s', '0.00001s', '0.00000s', '0.00000s', '0.00001s'], min_rank=['[2]', '[0]', '[2]', '[1]', '[2]', '[0]', '[2]', '[3]', '[1]', '[3]', '[0]', '[0]', '[0]', '[3]', '[3]', '[0]', '[0]', '[0]', '[0]', '[0]', '[0]', '[2]', '[0]', '[3]', '[3]', '[2]', '[0]', '[2]', '[2]', '[1]', '[2]', '[1]', '[3]', '[1]', '[2]', '[1]', '[2]', '[0]', '[1]', '[0]', '[0]', '[1]', '[2]', '[1]', '[0]', '[2]', '[2]', '[1]', '[0]', '[0]', '[0]', '[0]', '[1]'], t_avg=['0.13805s', '0.00977s', '0.00130s', '0.00051s', '0.00078s', '0.00086s', '0.00139s', '0.00021s', '0.00252s', '0.01833s', '0.01169s', '0.01067s', '0.00035s', '0.00617s', '0.00559s', '0.00029s', '0.00018s', '0.00001s', '0.00002s', '0.15380s', '0.00018s', '0.06197s', '0.21789s', '0.00506s', '0.00475s', '0.00241s', '0.00032s', '0.01083s', '0.00810s', '0.00781s', '0.01335s', '0.00349s', '0.00061s', '0.03213s', '0.00268s', '0.00505s', '0.00084s', '0.00024s', '0.00030s', '15.3663s', '4.1789s', '6.1234s', '0.42338s', '13.2374s', '11.6035s', '1.3454s', '0.00089s', '0.00156s', '0.00020s', '0.00008s', '0.00000s', '0.00000s', '0.00018s'], t_max=['1.4055s', '0.13249s', '0.03737s', '0.00243s', '0.03303s', '0.01324s', '0.00204s', '0.11979s', '0.04904s', '0.20685s', '0.19539s', '0.14553s', '0.00433s', '0.00905s', '0.00783s', '0.21393s', '0.21298s', '0.06155s', '0.03370s', '0.16024s', '0.00149s', '0.84713s', '0.43400s', '0.06441s', '0.09187s', '0.02079s', '0.00087s', '0.10231s', '0.03293s', '0.05215s', '0.20375s', '0.00760s', '0.00104s', '0.06021s', '0.00832s', '0.01725s', '0.00215s', '0.33809s', '0.12514s', '29.2936s', '4.1790s', '6.1376s', '0.43231s', '13.2380s', '11.6038s', '1.3749s', '0.00320s', '0.00319s', '0.00046s', '0.00045s', '0.00000s', '0.00000s', '0.00749s'], max_rank=['[3]', '[3]', '[2]', '[1]', '[0]', '[0]', '[1]', '[3]', '[0]', '[0]', '[2]', '[1]', '[0]', '[0]', '[2]', '[1]', '[1]', '[1]', '[0]', '[2]', '[3]', '[3]', '[2]', '[2]', '[0]', '[2]', '[0]', '[3]', '[3]', '[2]', '[0]', '[1]', '[0]', '[2]', '[0]', '[2]', '[1]', '[2]', '[0]', '[0]', '[2]', '[2]', '[3]', '[0]', '[2]', '[3]', '[1]', '[1]', '[1]', '[1]', '[3]', '[3]', '[3]'], total_min=['2980.473', '1034.114', '168.866', '110.164', '169.311', '184.683', '299.026', '73.128', '53.686', '395.181', '251.997', '229.996', '22.333', '132.773', '120.262', '136.670', '51.446', '0.107', '0.313', '18.589', '0.001', '1337.461', '146.666', '3.582', '48.303', '52.049', '6.856', '459.125', '168.817', '168.215', '258.510', '71.708', '13.226', '107.942', '8.679', '18.100', '18.005', '15.101', '2.558', '46.099', '4.179', '6.114', '0.409', '13.237', '11.603', '1.309', '0.003', '0.003', '0.000', '0.000', '0.000', '0.000', '0.214'], total_min_rank=['[0]', '[0]', '[1]', '[1]', '[1]', '[1]', '[2]', '[0]', '[1]', '[3]', '[0]', '[0]', '[1]', '[3]', '[3]', '[0]', '[0]', '[3]', '[3]', '[0]', '[0]', '[2]', '[0]', '[3]', '[0]', '[2]', '[0]', '[2]', '[2]', '[1]', '[2]', '[0]', '[3]', '[1]', '[2]', '[2]', '[2]', '[2]', '[3]', '[0]', '[0]', '[1]', '[2]', '[1]', '[0]', '[2]', '[2]', '[2]', '[2]', '[0]', '[0]', '[0]', '[0]'], total_max=['2984.872', '1064.997', '169.421', '110.621', '169.388', '186.290', '299.688', '103.964', '54.763', '396.478', '253.024', '231.041', '22.448', '134.045', '121.472', '280.294', '197.923', '0.279', '0.450', '18.620', '0.033', '1339.229', '162.627', '3.715', '137.783', '52.231', '6.958', '489.104', '189.108', '169.155', '333.273', '80.838', '13.276', '123.688', '10.360', '18.354', '18.243', '15.778', '2.635', '46.099', '4.179', '6.138', '0.432', '13.238', '11.604', '1.375', '0.004', '0.003', '0.001', '0.000', '0.000', '0.000', '0.271'], total_max_rank=['[3]', '[3]', '[3]', '[0]', '[0]', '[3]', '[3]', '[1]', '[3]', '[1]', '[3]', '[3]', '[0]', '[0]', '[0]', '[1]', '[1]', '[0]', '[0]', '[2]', '[2]', '[0]', '[1]', '[0]', '[1]', '[0]', '[3]', '[0]', '[0]', '[2]', '[0]', '[3]', '[0]', '[2]', '[3]', '[3]', '[0]', '[0]', '[1]', '[2]', '[2]', '[2]', '[3]', '[0]', '[2]', '[3]', '[1]', '[1]', '[1]', '[1]', '[3]', '[3]', '[3]'], total_avg=['2981.987', '1055.603', '169.106', '110.367', '169.351', '185.811', '299.351', '92.571', '54.380', '395.865', '252.480', '230.524', '22.415', '133.298', '120.780', '219.541', '138.893', '0.201', '0.405', '18.609', '0.022', '1338.656', '157.100', '3.646', '102.627', '52.154', '6.903', '467.912', '175.014', '168.693', '288.259', '75.337', '13.249', '115.715', '9.645', '18.201', '18.084', '15.406', '2.586', '46.099', '4.179', '6.123', '0.423', '13.237', '11.604', '1.345', '0.004', '0.003', '0.000', '0.000', '0.000', '0.000', '0.237'], pe=['4', '4', '4', '4', '4', '4', '4', '4', '4', '4', '4', '4', '4', '4', '4', '4', '4', '4', '4', '4', '4', '4', '4', '4', '4', '4', '4', '4', '4', '4', '4', '4', '4', '4', '4', '4', '4', '4', '4', '4', '4', '4', '4', '4', '4', '4', '4', '4', '4', '4', '4', '4', '4'])\n"
     ]
    }
   ],
   "source": [
    "def store_lines(table):\n",
    "    results_dataclass = MatchResultsICON()\n",
    "    # List of attribute names in the order they should be accessed\n",
    "    attribute_names = attributes = [field.name for field in fields(MatchResultsICON)]\n",
    "    for i, attr_name in enumerate(attribute_names):\n",
    "        for line in table.lines[1:]: \n",
    "            getattr(results_dataclass, attr_name).append(line[i])\n",
    "\n",
    "    return results_dataclass\n",
    "\n",
    "results_dataclass = store_lines(table)\n",
    "print(results_dataclass)"
   ]
  },
  {
   "cell_type": "code",
   "execution_count": 182,
   "metadata": {},
   "outputs": [
    {
     "name": "stdout",
     "output_type": "stream",
     "text": [
      "{'name': ['integrate_nh', 'nh_solve', 'nh_solve.veltend', 'nh_solve.cellcomp', 'nh_solve.edgecomp', 'nh_solve.vnupd', 'nh_solve.vimpl', 'nh_solve.exch', 'nh_hdiff', 'transport', 'adv_horiz', 'adv_hflx', 'back_traj', 'adv_vert', 'adv_vflx', 'exch_data', 'exch_data.wait', 'global_sum', 'ordglb_sum', 'wrt_output', 'wait_for_async_io', 'physics', 'nwp_radiation', 'preradiaton', 'phys_acc_sync', 'satad', 'phys_u_v', 'nwp_turbulence', 'nwp_turbtrans', 'nwp_turbdiff', 'nwp_surface', 'nwp_microphysics', 'rediag_prog_vars', 'nwp_convection', 'sso', 'cloud_cover', 'radheat', 'nh_diagnostics', 'diagnose_pres_temp', 'model_init', 'compute_domain_decomp', 'compute_intp_coeffs', 'init_ext_data', 'init_icon', 'init_latbc', 'init_nwp_phy', 'upper_atmosphere', 'upatmo_construction', 'upatmo_destruction', 'write_restart', 'write_restart_io', 'write_restart_communication', 'optional_diagnostics_atmosphere'], 'call_nb': ['86400', '432000', '518400', '864000', '864000', '864000', '864000', '1728000', '86404', '86400', '86400', '86400', '259200', '86400', '86400', '3061948', '3061948', '86436', '86488', '484', '484', '86404', '2884', '2884', '86404', '86404', '86404', '172804', '86404', '86400', '86400', '86400', '86404', '14404', '14404', '14404', '86404', '261144', '34092', '12', '4', '4', '4', '4', '4', '4', '16', '8', '8', '8', '4', '4', '5324'], 't_min': ['0.12085s', '0.00909s', '0.00127s', '0.00032s', '0.00052s', '0.00056s', '0.00134s', '0.00010s', '0.00244s', '0.01775s', '0.01133s', '0.01032s', '0.00002s', '0.00594s', '0.00538s', '0.00002s', '0.00000s', '0.00000s', '0.00000s', '0.14748s', '0.00001s', '0.04503s', '0.14135s', '0.00447s', '0.00115s', '0.00075s', '0.00031s', '0.00744s', '0.00743s', '0.00771s', '0.01107s', '0.00232s', '0.00022s', '0.02515s', '0.00234s', '0.00486s', '0.00081s', '0.00000s', '0.00000s', '5.8379s', '4.1788s', '6.1142s', '0.40888s', '13.2371s', '11.6030s', '1.3087s', '0.00001s', '0.00001s', '0.00000s', '0.00001s', '0.00000s', '0.00000s', '0.00001s'], 'min_rank': ['[2]', '[0]', '[2]', '[1]', '[2]', '[0]', '[2]', '[3]', '[1]', '[3]', '[0]', '[0]', '[0]', '[3]', '[3]', '[0]', '[0]', '[0]', '[0]', '[0]', '[0]', '[2]', '[0]', '[3]', '[3]', '[2]', '[0]', '[2]', '[2]', '[1]', '[2]', '[1]', '[3]', '[1]', '[2]', '[1]', '[2]', '[0]', '[1]', '[0]', '[0]', '[1]', '[2]', '[1]', '[0]', '[2]', '[2]', '[1]', '[0]', '[0]', '[0]', '[0]', '[1]'], 't_avg': ['0.13805s', '0.00977s', '0.00130s', '0.00051s', '0.00078s', '0.00086s', '0.00139s', '0.00021s', '0.00252s', '0.01833s', '0.01169s', '0.01067s', '0.00035s', '0.00617s', '0.00559s', '0.00029s', '0.00018s', '0.00001s', '0.00002s', '0.15380s', '0.00018s', '0.06197s', '0.21789s', '0.00506s', '0.00475s', '0.00241s', '0.00032s', '0.01083s', '0.00810s', '0.00781s', '0.01335s', '0.00349s', '0.00061s', '0.03213s', '0.00268s', '0.00505s', '0.00084s', '0.00024s', '0.00030s', '15.3663s', '4.1789s', '6.1234s', '0.42338s', '13.2374s', '11.6035s', '1.3454s', '0.00089s', '0.00156s', '0.00020s', '0.00008s', '0.00000s', '0.00000s', '0.00018s'], 't_max': ['1.4055s', '0.13249s', '0.03737s', '0.00243s', '0.03303s', '0.01324s', '0.00204s', '0.11979s', '0.04904s', '0.20685s', '0.19539s', '0.14553s', '0.00433s', '0.00905s', '0.00783s', '0.21393s', '0.21298s', '0.06155s', '0.03370s', '0.16024s', '0.00149s', '0.84713s', '0.43400s', '0.06441s', '0.09187s', '0.02079s', '0.00087s', '0.10231s', '0.03293s', '0.05215s', '0.20375s', '0.00760s', '0.00104s', '0.06021s', '0.00832s', '0.01725s', '0.00215s', '0.33809s', '0.12514s', '29.2936s', '4.1790s', '6.1376s', '0.43231s', '13.2380s', '11.6038s', '1.3749s', '0.00320s', '0.00319s', '0.00046s', '0.00045s', '0.00000s', '0.00000s', '0.00749s'], 'max_rank': ['[3]', '[3]', '[2]', '[1]', '[0]', '[0]', '[1]', '[3]', '[0]', '[0]', '[2]', '[1]', '[0]', '[0]', '[2]', '[1]', '[1]', '[1]', '[0]', '[2]', '[3]', '[3]', '[2]', '[2]', '[0]', '[2]', '[0]', '[3]', '[3]', '[2]', '[0]', '[1]', '[0]', '[2]', '[0]', '[2]', '[1]', '[2]', '[0]', '[0]', '[2]', '[2]', '[3]', '[0]', '[2]', '[3]', '[1]', '[1]', '[1]', '[1]', '[3]', '[3]', '[3]'], 'total_min': ['2980.473', '1034.114', '168.866', '110.164', '169.311', '184.683', '299.026', '73.128', '53.686', '395.181', '251.997', '229.996', '22.333', '132.773', '120.262', '136.670', '51.446', '0.107', '0.313', '18.589', '0.001', '1337.461', '146.666', '3.582', '48.303', '52.049', '6.856', '459.125', '168.817', '168.215', '258.510', '71.708', '13.226', '107.942', '8.679', '18.100', '18.005', '15.101', '2.558', '46.099', '4.179', '6.114', '0.409', '13.237', '11.603', '1.309', '0.003', '0.003', '0.000', '0.000', '0.000', '0.000', '0.214'], 'total_min_rank': ['[0]', '[0]', '[1]', '[1]', '[1]', '[1]', '[2]', '[0]', '[1]', '[3]', '[0]', '[0]', '[1]', '[3]', '[3]', '[0]', '[0]', '[3]', '[3]', '[0]', '[0]', '[2]', '[0]', '[3]', '[0]', '[2]', '[0]', '[2]', '[2]', '[1]', '[2]', '[0]', '[3]', '[1]', '[2]', '[2]', '[2]', '[2]', '[3]', '[0]', '[0]', '[1]', '[2]', '[1]', '[0]', '[2]', '[2]', '[2]', '[2]', '[0]', '[0]', '[0]', '[0]'], 'total_max': ['2984.872', '1064.997', '169.421', '110.621', '169.388', '186.290', '299.688', '103.964', '54.763', '396.478', '253.024', '231.041', '22.448', '134.045', '121.472', '280.294', '197.923', '0.279', '0.450', '18.620', '0.033', '1339.229', '162.627', '3.715', '137.783', '52.231', '6.958', '489.104', '189.108', '169.155', '333.273', '80.838', '13.276', '123.688', '10.360', '18.354', '18.243', '15.778', '2.635', '46.099', '4.179', '6.138', '0.432', '13.238', '11.604', '1.375', '0.004', '0.003', '0.001', '0.000', '0.000', '0.000', '0.271'], 'total_max_rank': ['[3]', '[3]', '[3]', '[0]', '[0]', '[3]', '[3]', '[1]', '[3]', '[1]', '[3]', '[3]', '[0]', '[0]', '[0]', '[1]', '[1]', '[0]', '[0]', '[2]', '[2]', '[0]', '[1]', '[0]', '[1]', '[0]', '[3]', '[0]', '[0]', '[2]', '[0]', '[3]', '[0]', '[2]', '[3]', '[3]', '[0]', '[0]', '[1]', '[2]', '[2]', '[2]', '[3]', '[0]', '[2]', '[3]', '[1]', '[1]', '[1]', '[1]', '[3]', '[3]', '[3]'], 'total_avg': ['2981.987', '1055.603', '169.106', '110.367', '169.351', '185.811', '299.351', '92.571', '54.380', '395.865', '252.480', '230.524', '22.415', '133.298', '120.780', '219.541', '138.893', '0.201', '0.405', '18.609', '0.022', '1338.656', '157.100', '3.646', '102.627', '52.154', '6.903', '467.912', '175.014', '168.693', '288.259', '75.337', '13.249', '115.715', '9.645', '18.201', '18.084', '15.406', '2.586', '46.099', '4.179', '6.123', '0.423', '13.237', '11.604', '1.345', '0.004', '0.003', '0.000', '0.000', '0.000', '0.000', '0.237'], 'pe': ['4', '4', '4', '4', '4', '4', '4', '4', '4', '4', '4', '4', '4', '4', '4', '4', '4', '4', '4', '4', '4', '4', '4', '4', '4', '4', '4', '4', '4', '4', '4', '4', '4', '4', '4', '4', '4', '4', '4', '4', '4', '4', '4', '4', '4', '4', '4', '4', '4', '4', '4', '4', '4']}\n"
     ]
    }
   ],
   "source": [
    "from dataclasses import dataclass, asdict\n",
    "result_dict = asdict(results_dataclass)\n",
    "print(result_dict)"
   ]
  },
  {
   "cell_type": "markdown",
   "metadata": {},
   "source": [
    "Now we need to get the time stamp and add it as an entry to the dictionary -- can legit take the last line which is when the thing passed the tests "
   ]
  },
  {
   "cell_type": "code",
   "execution_count": 196,
   "metadata": {},
   "outputs": [
    {
     "name": "stdout",
     "output_type": "stream",
     "text": [
      "2023-10-15 13:18:54\n"
     ]
    }
   ],
   "source": [
    "import re\n",
    "from datetime import datetime\n",
    "\n",
    "# Given format\n",
    "date_format = \"%a %d %b %Y %I:%M:%S %p %Z\"\n",
    "date_pattern = r'\\b\\w{3} \\d{2} \\w{3} \\d{4} \\d{2}:\\d{2}:\\d{2} [APM]{2} \\w{4}\\b'\n",
    "\n",
    "def extract_and_convert(line):\n",
    "    \"\"\"Extract date strings and convert to datetime objects.\"\"\"\n",
    "    dates = re.findall(date_pattern, line)\n",
    "    date_objects = [datetime.strptime(date, date_format) for date in dates]\n",
    "    return date_objects\n",
    "\n",
    "# Read the file and process each line\n",
    "all_dates = []\n",
    "with open('LOG.check.mch_bench_r19b07_icon2.run.o', 'r') as file:\n",
    "    for line in file:\n",
    "        all_dates.extend(extract_and_convert(line)) # Put this in the code at hte beginning \n",
    "\n",
    "# Sort and retrieve the latest date\n",
    "all_dates.sort()\n",
    "latest_date = all_dates[-1] if all_dates else None\n",
    "\n",
    "print(latest_date) # Store this in the dictionary \n"
   ]
  },
  {
   "cell_type": "code",
   "execution_count": 199,
   "metadata": {},
   "outputs": [],
   "source": [
    "result_dict[\"time_stamp\"] = latest_date"
   ]
  },
  {
   "cell_type": "code",
   "execution_count": 11,
   "metadata": {},
   "outputs": [
    {
     "name": "stdout",
     "output_type": "stream",
     "text": [
      "[180215, 180294]\n",
      "[' name                       # calls   t_min          t_avg          t_max          total min (s)   total max (s)   total avg (s)    ', ' ------------------------   -------   ------------   ------------   ------------   -------------   -------------   -------------    ']\n"
     ]
    }
   ],
   "source": [
    "\n",
    "    "
   ]
  },
  {
   "cell_type": "code",
   "execution_count": 66,
   "metadata": {},
   "outputs": [
    {
     "name": "stdout",
     "output_type": "stream",
     "text": [
      "['name', 'call_nb', 't_min', 'min_rank', 't_avg', 't_max', 'max_rank', 'total_min', 'total_min_rank', 'total_max', 'total_max_rank', 'total_avg', 'pe']\n",
      " name                       # calls   t_min          t_avg          t_max          total min (s)   total max (s)   total avg (s)    \n"
     ]
    }
   ],
   "source": [
    "from dataclasses import dataclass, field, fields\n",
    "# Create a dataclass to save each line of the table of interest \n",
    "@dataclass\n",
    "class MatchResultsICON: \n",
    "    name: list = field(default_factory=list)\n",
    "    call_nb: list = field(default_factory=list)\n",
    "    t_min: list = field(default_factory=list)\n",
    "    min_rank:list = field(default_factory=list)\n",
    "    t_avg: list = field(default_factory=list)\n",
    "    t_max: list = field(default_factory=list)\n",
    "    max_rank: list = field(default_factory=list)\n",
    "    total_min: list = field(default_factory=list)\n",
    "    total_min_rank:list = field(default_factory=list)\n",
    "    total_max: list = field(default_factory=list)\n",
    "    total_max_rank: list = field(default_factory=list)\n",
    "    total_avg: list = field(default_factory=list)\n",
    "    pe: list = field(default_factory=list)\n",
    "\n",
    "    # To make it subscriptable\n",
    "    def __getitem__(self, key):\n",
    "        return getattr(self, key)\n",
    "\n",
    "\n",
    "class Table:\n",
    "    def __init__(self, lines):\n",
    "        # Remove white spaces at the beginning and end of each line\n",
    "        self.lines = [line.strip() for line in lines]\n",
    "\n",
    "    def __str__(self):\n",
    "        return \"\\n\".join(self.lines)\n",
    "\n",
    " \n",
    "\n",
    "attribute_names = [field.name for field in fields(MatchResultsICON)]\n",
    "\n",
    "print(attribute_names)\n",
    "\n",
    "\n",
    "header = log_file[start:start+1][0]\n",
    "print(header)\n"
   ]
  },
  {
   "cell_type": "code",
   "execution_count": 68,
   "metadata": {},
   "outputs": [],
   "source": [
    "import re\n",
    "from typing import List\n",
    "header_regex = r\"name +.*calls.*\"\n",
    "\n",
    "with open(\"/users/clechart/probtest/util/icon/LOG.check.mch_bench_r19b07_icon2.run.o\", \"r\", encoding=\"utf-8\") as f:\n",
    "    full_file = f.read()\n",
    "\n",
    "\n",
    "def isolate_table(full_file: str, header_regex: str) -> List[Table]:\n",
    "    \"\"\"Mine the table from the log.\n",
    "\n",
    "    Args:\n",
    "        full_file (str): log file as string\n",
    "        header_regex (str): regular expression pattern for table header\n",
    "\n",
    "    Raises:\n",
    "        ValueError: no information table found\n",
    "\n",
    "    Returns:\n",
    "        List[Table]: list of all tables available in the log\n",
    "\n",
    "    \"\"\"\n",
    "    # Split file into lines and remove empty ones\n",
    "    log_file = [e for e in full_file.split(\"\\n\") if e]\n",
    "\n",
    "    # Find header lines\n",
    "    header_lines = [i for i, e in enumerate(log_file) if re.search(header_regex, e)]\n",
    "    \n",
    "    # find end line (footer)\n",
    "    pattern = r'-'*165\n",
    "    footer_lines = [i for i, e in enumerate(log_file) if re.search(pattern, e)]\n",
    "\n",
    "    if not header_lines or not footer_lines:\n",
    "        logger.error(\"No headers or footers found in the log\") \n",
    "        return\n",
    "\n",
    "    tables = []\n",
    "\n",
    "    for i in range(len(header_lines)):\n",
    "        start = header_lines[i]\n",
    "        # Check if we have a corresponding footer for this header\n",
    "        end = next((f for f in footer_lines if f > start), None)\n",
    "        if end is None:\n",
    "            continue\n",
    "\n",
    "        # Append table without headers\n",
    "        table = Table(log_file[start+3:end])\n",
    "        tables.append(table)\n",
    "\n",
    "        # Remove this footer so it won't be used again\n",
    "        footer_lines.remove(end)\n",
    "\n",
    "    return tables\n",
    "\n",
    "\n",
    "tables = isolate_table(full_file, header_regex)"
   ]
  },
  {
   "cell_type": "code",
   "execution_count": 70,
   "metadata": {},
   "outputs": [
    {
     "name": "stdout",
     "output_type": "stream",
     "text": [
      "total                             4               53m11s   [2]              53m11s         53m11s   [0]            3191.350    [2]                  3191.350    [0]                  3191.350    4\n",
      "L integrate_nh                   86400         0.12085s   [2]            0.13805s        1.4055s   [3]            2980.473    [0]                  2984.872    [3]                  2981.987    4\n",
      "L nh_solve                    432000        0.00909s   [0]            0.00977s       0.13249s   [3]            1034.114    [0]                  1064.997    [3]                  1055.603    4\n",
      "L nh_solve.veltend         518400        0.00127s   [2]            0.00130s       0.03737s   [2]             168.866    [1]                   169.421    [3]                   169.106    4\n",
      "L nh_solve.cellcomp        864000        0.00032s   [1]            0.00051s       0.00243s   [1]             110.164    [1]                   110.621    [0]                   110.367    4\n",
      "L nh_solve.edgecomp        864000        0.00052s   [2]            0.00078s       0.03303s   [0]             169.311    [1]                   169.388    [0]                   169.351    4\n",
      "L nh_solve.vnupd           864000        0.00056s   [0]            0.00086s       0.01324s   [0]             184.683    [1]                   186.290    [3]                   185.811    4\n",
      "L nh_solve.vimpl           864000        0.00134s   [2]            0.00139s       0.00204s   [1]             299.026    [2]                   299.688    [3]                   299.351    4\n",
      "L nh_solve.exch            1728000       0.00010s   [3]            0.00021s       0.11979s   [3]              73.128    [0]                   103.964    [1]                    92.571    4\n",
      "L nh_hdiff                    86404         0.00244s   [1]            0.00252s       0.04904s   [0]              53.686    [1]                    54.763    [3]                    54.380    4\n",
      "L transport                   86400         0.01775s   [3]            0.01833s       0.20685s   [0]             395.181    [3]                   396.478    [1]                   395.865    4\n",
      "L adv_horiz                86400         0.01133s   [0]            0.01169s       0.19539s   [2]             251.997    [0]                   253.024    [3]                   252.480    4\n",
      "L adv_hflx              86400         0.01032s   [0]            0.01067s       0.14553s   [1]             229.996    [0]                   231.041    [3]                   230.524    4\n",
      "L back_traj          259200        0.00002s   [0]            0.00035s       0.00433s   [0]              22.333    [1]                    22.448    [0]                    22.415    4\n",
      "L adv_vert                 86400         0.00594s   [3]            0.00617s       0.00905s   [0]             132.773    [3]                   134.045    [0]                   133.298    4\n",
      "L adv_vflx              86400         0.00538s   [3]            0.00559s       0.00783s   [2]             120.262    [3]                   121.472    [0]                   120.780    4\n",
      "exch_data                         3061948       0.00002s   [0]            0.00029s       0.21393s   [1]             136.670    [0]                   280.294    [1]                   219.541    4\n",
      "L exch_data.wait                 3061948       0.00000s   [0]            0.00018s       0.21298s   [1]              51.446    [0]                   197.923    [1]                   138.893    4\n",
      "global_sum                        86436         0.00000s   [0]            0.00001s       0.06155s   [1]               0.107    [3]                     0.279    [0]                     0.201    4\n",
      "ordglb_sum                        86488         0.00000s   [0]            0.00002s       0.03370s   [0]               0.313    [3]                     0.450    [0]                     0.405    4\n",
      "wrt_output                        484           0.14748s   [0]            0.15380s       0.16024s   [2]              18.589    [0]                    18.620    [2]                    18.609    4\n",
      "L wait_for_async_io              484           0.00001s   [0]            0.00018s       0.00149s   [3]               0.001    [0]                     0.033    [2]                     0.022    4\n",
      "physics                           86404         0.04503s   [2]            0.06197s       0.84713s   [3]            1337.461    [2]                  1339.229    [0]                  1338.656    4\n",
      "L nwp_radiation                  2884          0.14135s   [0]            0.21789s       0.43400s   [2]             146.666    [0]                   162.627    [1]                   157.100    4\n",
      "L preradiaton                 2884          0.00447s   [3]            0.00506s       0.06441s   [2]               3.582    [3]                     3.715    [0]                     3.646    4\n",
      "L phys_acc_sync                  86404         0.00115s   [3]            0.00475s       0.09187s   [0]              48.303    [0]                   137.783    [1]                   102.627    4\n",
      "L satad                          86404         0.00075s   [2]            0.00241s       0.02079s   [2]              52.049    [2]                    52.231    [0]                    52.154    4\n",
      "L phys_u_v                       86404         0.00031s   [0]            0.00032s       0.00087s   [0]               6.856    [0]                     6.958    [3]                     6.903    4\n",
      "L nwp_turbulence                 172804        0.00744s   [2]            0.01083s       0.10231s   [3]             459.125    [2]                   489.104    [0]                   467.912    4\n",
      "L nwp_turbtrans               86404         0.00743s   [2]            0.00810s       0.03293s   [3]             168.817    [2]                   189.108    [0]                   175.014    4\n",
      "L nwp_turbdiff                86400         0.00771s   [1]            0.00781s       0.05215s   [2]             168.215    [1]                   169.155    [2]                   168.693    4\n",
      "L nwp_surface                    86400         0.01107s   [2]            0.01335s       0.20375s   [0]             258.510    [2]                   333.273    [0]                   288.259    4\n",
      "L nwp_microphysics               86400         0.00232s   [1]            0.00349s       0.00760s   [1]              71.708    [0]                    80.838    [3]                    75.337    4\n",
      "L rediag_prog_vars               86404         0.00022s   [3]            0.00061s       0.00104s   [0]              13.226    [3]                    13.276    [0]                    13.249    4\n",
      "L nwp_convection                 14404         0.02515s   [1]            0.03213s       0.06021s   [2]             107.942    [1]                   123.688    [2]                   115.715    4\n",
      "L sso                            14404         0.00234s   [2]            0.00268s       0.00832s   [0]               8.679    [2]                    10.360    [3]                     9.645    4\n",
      "L cloud_cover                    14404         0.00486s   [1]            0.00505s       0.01725s   [2]              18.100    [2]                    18.354    [3]                    18.201    4\n",
      "L radheat                        86404         0.00081s   [2]            0.00084s       0.00215s   [1]              18.005    [2]                    18.243    [0]                    18.084    4\n",
      "nh_diagnostics                    261144        0.00000s   [0]            0.00024s       0.33809s   [2]              15.101    [2]                    15.778    [0]                    15.406    4\n",
      "diagnose_pres_temp                34092         0.00000s   [1]            0.00030s       0.12514s   [0]               2.558    [3]                     2.635    [1]                     2.586    4\n",
      "model_init                        12             5.8379s   [0]            15.3663s       29.2936s   [0]              46.099    [0]                    46.099    [2]                    46.099    4\n",
      "L compute_domain_decomp          4              4.1788s   [0]             4.1789s        4.1790s   [2]               4.179    [0]                     4.179    [2]                     4.179    4\n",
      "L compute_intp_coeffs            4              6.1142s   [1]             6.1234s        6.1376s   [2]               6.114    [1]                     6.138    [2]                     6.123    4\n",
      "L init_ext_data                  4             0.40888s   [2]            0.42338s       0.43231s   [3]               0.409    [2]                     0.432    [3]                     0.423    4\n",
      "L init_icon                      4             13.2371s   [1]            13.2374s       13.2380s   [0]              13.237    [1]                    13.238    [0]                    13.237    4\n",
      "L init_latbc                     4             11.6030s   [0]            11.6035s       11.6038s   [2]              11.603    [0]                    11.604    [2]                    11.604    4\n",
      "L init_nwp_phy                   4              1.3087s   [2]             1.3454s        1.3749s   [3]               1.309    [2]                     1.375    [3]                     1.345    4\n",
      "upper_atmosphere                  16            0.00001s   [2]            0.00089s       0.00320s   [1]               0.003    [2]                     0.004    [1]                     0.004    4\n",
      "L upatmo_construction            8             0.00001s   [1]            0.00156s       0.00319s   [1]               0.003    [2]                     0.003    [1]                     0.003    4\n",
      "L upatmo_destruction             8             0.00000s   [0]            0.00020s       0.00046s   [1]               0.000    [2]                     0.001    [1]                     0.000    4\n",
      "write_restart                     8             0.00001s   [0]            0.00008s       0.00045s   [1]               0.000    [0]                     0.000    [1]                     0.000    4\n",
      "L write_restart_io               4             0.00000s   [0]            0.00000s       0.00000s   [3]               0.000    [0]                     0.000    [3]                     0.000    4\n",
      "L write_restart_communication    4             0.00000s   [0]            0.00000s       0.00000s   [3]               0.000    [0]                     0.000    [3]                     0.000    4\n",
      "optional_diagnostics_atmosphere   5324          0.00001s   [1]            0.00018s       0.00749s   [3]               0.214    [0]                     0.271    [3]                     0.237    4\n"
     ]
    }
   ],
   "source": [
    "print(tables[0])"
   ]
  },
  {
   "cell_type": "code",
   "execution_count": 71,
   "metadata": {},
   "outputs": [],
   "source": [
    "import re\n",
    "\n",
    "def process_line(line: str) -> list:\n",
    "    \"\"\"Remove white space and formatting in table line. \n",
    "\n",
    "    Args:\n",
    "        line (str):individual log file line\n",
    "\n",
    "    Returns:\n",
    "        list: line elements as list\n",
    "    \"\"\"\n",
    "    # Replace multiple consecutive whitespaces with a single '-'\n",
    "    line = re.sub('[\\s]+', '-', line)\n",
    "\n",
    "    print(line)\n",
    "    \n",
    "    if line.startswith(\"L\"):\n",
    "        line = line.lstrip(\"L-\")\n",
    "        \n",
    "    # Split the line into list\n",
    "    elements = line.split('-')\n",
    "    \n",
    "    # Filter out unwanted elements\n",
    "    elements = [elem for elem in elements if elem not in [\" \", \"(s)\", \"#\", \"\"]]\n",
    "    \n",
    "    return elements\n",
    "\n"
   ]
  },
  {
   "cell_type": "code",
   "execution_count": 76,
   "metadata": {},
   "outputs": [
    {
     "name": "stdout",
     "output_type": "stream",
     "text": [
      "L integrate_nh                   86400         0.12085s   [2]            0.13805s        1.4055s   [3]            2980.473    [0]                  2984.872    [3]                  2981.987    4\n",
      "L nh_solve                    432000        0.00909s   [0]            0.00977s       0.13249s   [3]            1034.114    [0]                  1064.997    [3]                  1055.603    4\n",
      "L nh_solve.veltend         518400        0.00127s   [2]            0.00130s       0.03737s   [2]             168.866    [1]                   169.421    [3]                   169.106    4\n",
      "L nh_solve.cellcomp        864000        0.00032s   [1]            0.00051s       0.00243s   [1]             110.164    [1]                   110.621    [0]                   110.367    4\n",
      "L nh_solve.edgecomp        864000        0.00052s   [2]            0.00078s       0.03303s   [0]             169.311    [1]                   169.388    [0]                   169.351    4\n",
      "L nh_solve.vnupd           864000        0.00056s   [0]            0.00086s       0.01324s   [0]             184.683    [1]                   186.290    [3]                   185.811    4\n",
      "L nh_solve.vimpl           864000        0.00134s   [2]            0.00139s       0.00204s   [1]             299.026    [2]                   299.688    [3]                   299.351    4\n",
      "L nh_solve.exch            1728000       0.00010s   [3]            0.00021s       0.11979s   [3]              73.128    [0]                   103.964    [1]                    92.571    4\n",
      "L nh_hdiff                    86404         0.00244s   [1]            0.00252s       0.04904s   [0]              53.686    [1]                    54.763    [3]                    54.380    4\n",
      "L transport                   86400         0.01775s   [3]            0.01833s       0.20685s   [0]             395.181    [3]                   396.478    [1]                   395.865    4\n",
      "L adv_horiz                86400         0.01133s   [0]            0.01169s       0.19539s   [2]             251.997    [0]                   253.024    [3]                   252.480    4\n",
      "L adv_hflx              86400         0.01032s   [0]            0.01067s       0.14553s   [1]             229.996    [0]                   231.041    [3]                   230.524    4\n",
      "L back_traj          259200        0.00002s   [0]            0.00035s       0.00433s   [0]              22.333    [1]                    22.448    [0]                    22.415    4\n",
      "L adv_vert                 86400         0.00594s   [3]            0.00617s       0.00905s   [0]             132.773    [3]                   134.045    [0]                   133.298    4\n",
      "L adv_vflx              86400         0.00538s   [3]            0.00559s       0.00783s   [2]             120.262    [3]                   121.472    [0]                   120.780    4\n",
      "exch_data                         3061948       0.00002s   [0]            0.00029s       0.21393s   [1]             136.670    [0]                   280.294    [1]                   219.541    4\n",
      "L exch_data.wait                 3061948       0.00000s   [0]            0.00018s       0.21298s   [1]              51.446    [0]                   197.923    [1]                   138.893    4\n",
      "global_sum                        86436         0.00000s   [0]            0.00001s       0.06155s   [1]               0.107    [3]                     0.279    [0]                     0.201    4\n",
      "ordglb_sum                        86488         0.00000s   [0]            0.00002s       0.03370s   [0]               0.313    [3]                     0.450    [0]                     0.405    4\n",
      "wrt_output                        484           0.14748s   [0]            0.15380s       0.16024s   [2]              18.589    [0]                    18.620    [2]                    18.609    4\n",
      "L wait_for_async_io              484           0.00001s   [0]            0.00018s       0.00149s   [3]               0.001    [0]                     0.033    [2]                     0.022    4\n",
      "physics                           86404         0.04503s   [2]            0.06197s       0.84713s   [3]            1337.461    [2]                  1339.229    [0]                  1338.656    4\n",
      "L nwp_radiation                  2884          0.14135s   [0]            0.21789s       0.43400s   [2]             146.666    [0]                   162.627    [1]                   157.100    4\n",
      "L preradiaton                 2884          0.00447s   [3]            0.00506s       0.06441s   [2]               3.582    [3]                     3.715    [0]                     3.646    4\n",
      "L phys_acc_sync                  86404         0.00115s   [3]            0.00475s       0.09187s   [0]              48.303    [0]                   137.783    [1]                   102.627    4\n",
      "L satad                          86404         0.00075s   [2]            0.00241s       0.02079s   [2]              52.049    [2]                    52.231    [0]                    52.154    4\n",
      "L phys_u_v                       86404         0.00031s   [0]            0.00032s       0.00087s   [0]               6.856    [0]                     6.958    [3]                     6.903    4\n",
      "L nwp_turbulence                 172804        0.00744s   [2]            0.01083s       0.10231s   [3]             459.125    [2]                   489.104    [0]                   467.912    4\n",
      "L nwp_turbtrans               86404         0.00743s   [2]            0.00810s       0.03293s   [3]             168.817    [2]                   189.108    [0]                   175.014    4\n",
      "L nwp_turbdiff                86400         0.00771s   [1]            0.00781s       0.05215s   [2]             168.215    [1]                   169.155    [2]                   168.693    4\n",
      "L nwp_surface                    86400         0.01107s   [2]            0.01335s       0.20375s   [0]             258.510    [2]                   333.273    [0]                   288.259    4\n",
      "L nwp_microphysics               86400         0.00232s   [1]            0.00349s       0.00760s   [1]              71.708    [0]                    80.838    [3]                    75.337    4\n",
      "L rediag_prog_vars               86404         0.00022s   [3]            0.00061s       0.00104s   [0]              13.226    [3]                    13.276    [0]                    13.249    4\n",
      "L nwp_convection                 14404         0.02515s   [1]            0.03213s       0.06021s   [2]             107.942    [1]                   123.688    [2]                   115.715    4\n",
      "L sso                            14404         0.00234s   [2]            0.00268s       0.00832s   [0]               8.679    [2]                    10.360    [3]                     9.645    4\n",
      "L cloud_cover                    14404         0.00486s   [1]            0.00505s       0.01725s   [2]              18.100    [2]                    18.354    [3]                    18.201    4\n",
      "L radheat                        86404         0.00081s   [2]            0.00084s       0.00215s   [1]              18.005    [2]                    18.243    [0]                    18.084    4\n",
      "nh_diagnostics                    261144        0.00000s   [0]            0.00024s       0.33809s   [2]              15.101    [2]                    15.778    [0]                    15.406    4\n",
      "diagnose_pres_temp                34092         0.00000s   [1]            0.00030s       0.12514s   [0]               2.558    [3]                     2.635    [1]                     2.586    4\n",
      "model_init                        12             5.8379s   [0]            15.3663s       29.2936s   [0]              46.099    [0]                    46.099    [2]                    46.099    4\n",
      "L compute_domain_decomp          4              4.1788s   [0]             4.1789s        4.1790s   [2]               4.179    [0]                     4.179    [2]                     4.179    4\n",
      "L compute_intp_coeffs            4              6.1142s   [1]             6.1234s        6.1376s   [2]               6.114    [1]                     6.138    [2]                     6.123    4\n",
      "L init_ext_data                  4             0.40888s   [2]            0.42338s       0.43231s   [3]               0.409    [2]                     0.432    [3]                     0.423    4\n",
      "L init_icon                      4             13.2371s   [1]            13.2374s       13.2380s   [0]              13.237    [1]                    13.238    [0]                    13.237    4\n",
      "L init_latbc                     4             11.6030s   [0]            11.6035s       11.6038s   [2]              11.603    [0]                    11.604    [2]                    11.604    4\n",
      "L init_nwp_phy                   4              1.3087s   [2]             1.3454s        1.3749s   [3]               1.309    [2]                     1.375    [3]                     1.345    4\n",
      "upper_atmosphere                  16            0.00001s   [2]            0.00089s       0.00320s   [1]               0.003    [2]                     0.004    [1]                     0.004    4\n",
      "L upatmo_construction            8             0.00001s   [1]            0.00156s       0.00319s   [1]               0.003    [2]                     0.003    [1]                     0.003    4\n",
      "L upatmo_destruction             8             0.00000s   [0]            0.00020s       0.00046s   [1]               0.000    [2]                     0.001    [1]                     0.000    4\n",
      "write_restart                     8             0.00001s   [0]            0.00008s       0.00045s   [1]               0.000    [0]                     0.000    [1]                     0.000    4\n",
      "L write_restart_io               4             0.00000s   [0]            0.00000s       0.00000s   [3]               0.000    [0]                     0.000    [3]                     0.000    4\n",
      "L write_restart_communication    4             0.00000s   [0]            0.00000s       0.00000s   [3]               0.000    [0]                     0.000    [3]                     0.000    4\n",
      "optional_diagnostics_atmosphere   5324          0.00001s   [1]            0.00018s       0.00749s   [3]               0.214    [0]                     0.271    [3]                     0.237    4\n"
     ]
    }
   ],
   "source": [
    "# FIXME we need to upload line by line instead of by table \n",
    "# so have to move the logic of process & upload to a level \n",
    "def store_tables(tables: list) -> MatchResultsICON:\n",
    "    \"\"\"Store table information in arranged manner.\n",
    "\n",
    "    Args:\n",
    "        tables (list): tables extracted from the log\n",
    "\n",
    "    Returns:\n",
    "        MatchResultsICON: ifnromation stored into a dataclass\n",
    "\n",
    "    \"\"\"\n",
    "    results_dataclass = MatchResultsICON()\n",
    "    # List of attribute names in the order they should be accessed\n",
    "    attribute_names = [field.name for field in fields(MatchResultsICON)]\n",
    "    \n",
    "    for table in tables:\n",
    "        for line in table.lines[1:]:\n",
    "            print(line)\n",
    "            print(len(line))\n",
    "            # Check if the line has the right number of values for all attributes\n",
    "            if len(line) == len(attribute_names):\n",
    "                for i, attr_name in enumerate(attribute_names): \n",
    "                    try: \n",
    "                        value = float(line[i])\n",
    "                        getattr(results_dataclass, attr_name).append(value)\n",
    "                    except:\n",
    "                        getattr(results_dataclass, attr_name).append(line[i])\n",
    "                \n",
    "                \n",
    "            # If not the right length, skip the line\n",
    "            else:\n",
    "                continue\n",
    "\n",
    "    return results_dataclass\n",
    "\n",
    "\n",
    "results_dc = store_tables(tables)"
   ]
  },
  {
   "cell_type": "code",
   "execution_count": 77,
   "metadata": {},
   "outputs": [
    {
     "name": "stdout",
     "output_type": "stream",
     "text": [
      "MatchResultsICON(name=[], call_nb=[], t_min=[], min_rank=[], t_avg=[], t_max=[], max_rank=[], total_min=[], total_min_rank=[], total_max=[], total_max_rank=[], total_avg=[], pe=[])\n"
     ]
    }
   ],
   "source": [
    "print(results_dc)"
   ]
  },
  {
   "cell_type": "code",
   "execution_count": 3,
   "metadata": {},
   "outputs": [],
   "source": [
    "import re\n",
    "def process_line(line: str) -> list:\n",
    "    \"\"\"Remove white space and formatting in table line.\n",
    "\n",
    "    Args:\n",
    "        line (str):individual log file line\n",
    "\n",
    "    Returns:\n",
    "        list: line elements as list\n",
    "    \"\"\"\n",
    "    # Replace multiple consecutive whitespaces with a single '-'\n",
    "    line = re.sub(r\"[\\s]+\", \"-\", line)\n",
    "\n",
    "    if line.startswith(\"L\"):\n",
    "        line = line.lstrip(\"L-\")\n",
    "\n",
    "    # Split the line into list\n",
    "    elements = line.split(\"-\")\n",
    "\n",
    "    # Remove the units (s) at the end of the element\n",
    "    elements = [elem.rstrip(\"s\") if elem.endswith(\"s\") else elem for elem in elements]\n",
    "\n",
    "    # Filter out unwanted elements\n",
    "    elements = [elem for elem in elements if elem not in [\" \", \"(s)\", \"#\", \"\"]]\n",
    "\n",
    "    return elements\n"
   ]
  },
  {
   "cell_type": "code",
   "execution_count": 9,
   "metadata": {},
   "outputs": [
    {
     "data": {
      "text/plain": [
       "['some/test/content']"
      ]
     },
     "execution_count": 9,
     "metadata": {},
     "output_type": "execute_result"
    }
   ],
   "source": [
    "process_line(\"Lsome/test/content\")"
   ]
  }
 ],
 "metadata": {
  "kernelspec": {
   "display_name": "monitoring-framework-fieldextra",
   "language": "python",
   "name": "python3"
  },
  "language_info": {
   "codemirror_mode": {
    "name": "ipython",
    "version": 3
   },
   "file_extension": ".py",
   "mimetype": "text/x-python",
   "name": "python",
   "nbconvert_exporter": "python",
   "pygments_lexer": "ipython3",
   "version": "3.12.0"
  },
  "orig_nbformat": 4
 },
 "nbformat": 4,
 "nbformat_minor": 2
}
